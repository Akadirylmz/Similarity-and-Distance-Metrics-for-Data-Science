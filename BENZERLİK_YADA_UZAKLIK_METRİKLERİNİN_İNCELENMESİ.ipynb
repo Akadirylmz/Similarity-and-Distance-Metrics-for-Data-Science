{
  "nbformat": 4,
  "nbformat_minor": 0,
  "metadata": {
    "colab": {
      "name": " BENZERLİK YADA UZAKLIK METRİKLERİNİN İNCELENMESİ.ipynb",
      "provenance": [],
      "collapsed_sections": []
    },
    "kernelspec": {
      "name": "python3",
      "display_name": "Python 3"
    },
    "language_info": {
      "name": "python"
    }
  },
  "cells": [
    {
      "cell_type": "markdown",
      "metadata": {
        "id": "2VZsOyaphk8B"
      },
      "source": [
        "# **BENZERLİK YADA UZAKLIK METRİKLERİNİN İNCELENMESİ**\n",
        "\n",
        "\n",
        "\n",
        "\n"
      ]
    },
    {
      "cell_type": "markdown",
      "metadata": {
        "id": "rGYew4zqNMza"
      },
      "source": [
        "# **Python'da en popüler benzerlik ölçüsüleri ve uygulaması**"
      ]
    },
    {
      "cell_type": "markdown",
      "metadata": {
        "id": "CH-VIL3oLtzL"
      },
      "source": [
        "Vızıltı terimi benzerlik mesafe ölçüsü veya benzerlik ölçüleri, matematik ve makine öğrenimi  uygulayıcıları arasında çok çeşitli tanımlara sahiptir. Sonuç olarak, bu terimler, kavramlar ve kullanımları veri bilimine yeni başlayanların zihinlerinin çok ötesine geçti .  \n",
        "\n",
        "Bu yüzden bugün, benzerlik için daha net ve sezgisel tanımlar vermek için en popüler altı benzerlik ölçüsüne ve bunların python programlama dilinde uygulanmasına bakacağız.\n",
        "\n",
        "Farklı benzerlik uzaklık ölçülerini açıklamaya geçmeden önce. Veri madenciliği veya makine öğrenimindeki etkili anahtar terim benzerliğini açıklayalım.\n",
        "\n",
        "Bu benzerlik, aşağıdaki gibi faaliyetler için çok temel yapı taşıdır.\n",
        "\n",
        "- Öneri motorları ,\n",
        "- Kümeleme ,\n",
        "- Farklı sınıflandırma problemleri ,\n",
        "- E-posta spam vs. sınıflandırma sorunları"
      ]
    },
    {
      "cell_type": "markdown",
      "metadata": {
        "id": "INQJa53mL5RK"
      },
      "source": [
        "\n",
        "# **Benzerlik**"
      ]
    },
    {
      "cell_type": "markdown",
      "metadata": {
        "id": "P1S9aw8hMBOL"
      },
      "source": [
        "Benzerlik ölçüsü, iki veri nesnesinin ne kadar benzer olduğunun ölçüsüdür. Benzerlik ölçüsü, bir veri madenciliği  veya makine öğrenimi bağlamıdır, nesnelerin özelliklerini temsil eden boyutlarla bir mesafedir. Mesafe küçükse, özellikler yüksek derecede benzerliğe sahiptir. Oysa geniş bir mesafe düşük derecede benzerlik olacaktır.\n",
        "\n",
        "Benzerlik ölçüsü kullanımı daha çok metin ile ilgili önişleme tekniklerinde , ayrıca gelişmiş kelime gömme tekniklerinde kullanılan benzerlik kavramlarında da kullanılmaktadır . Bu kavramları çeşitli derin öğrenme uygulamalarında kullanabiliriz. Veri büyütme teknikleriyle oluşturulan verileri kontrol etmek için görüntü arasındaki farkı kullanır .\n",
        "\n",
        "Benzerlik özneldir ve büyük ölçüde etki alanına ve uygulamaya bağlıdır.\n",
        "\n",
        "Örneğin, iki meyve rengi, boyutu veya tadı nedeniyle birbirine benzer. İlgisiz boyutlar / özellikler arasındaki mesafeyi hesaplarken özel dikkat gösterilmelidir . Her bir elemanın göreceli değerleri normalleştirilmelidir, aksi takdirde bir özellik mesafe hesaplamasına hakim olabilir.\n",
        "\n",
        "Genel olarak  benzerlik 0 ile 1 [0,1] aralığında ölçülür. Makine öğrenimi dünyasında, [0, 1] aralığındaki bu puana benzerlik puanı denir.\n",
        "\n",
        "İki ana benzerlik düşüncesi:\n",
        "\n",
        "- X = Y ise benzerlik = 1 (Burada X, Y iki nesnedir)\n",
        "- X ≠ Y ise benzerlik = 0\n",
        "\n",
        "Hepsi benzerlikle ilgili, en popüler altı benzerlik mesafe ölçüsüne gidelim.\n",
        "*   Euclidean Distance \n",
        "*   Cosine Similarity\n",
        "*   Correlation\n",
        "*   Minkowski\n",
        "*   Manhattan Distance\n",
        "*   Hamming Distance"
      ]
    },
    {
      "cell_type": "markdown",
      "metadata": {
        "id": "7SfmNczKWBKf"
      },
      "source": [
        "# **Euclidean Distance**\n",
        "\n"
      ]
    },
    {
      "cell_type": "markdown",
      "metadata": {
        "id": "JoqRDPqYnHkX"
      },
      "source": [
        "Öncelikle Öklid Uzaklığı Nedir? ile başlayalım. İki nokta arasındaki doğrusal uzaklığı hesaplamak istediğimizde kullandığımız metotlardan birisidir. Geometri derslerinden kendileri tanıyoruz.\n",
        "\n",
        "Tek, iki ve üç boyutta öklid uzaklıkları hesaplanabilir. Genel olarak aşağıdaki gibi formülize edilmektedir."
      ]
    },
    {
      "cell_type": "markdown",
      "metadata": {
        "id": "QW4v-tKYnOGG"
      },
      "source": [
        "![EuclideanDistance_Formula.png](data:image/png;base64,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)"
      ]
    },
    {
      "cell_type": "markdown",
      "metadata": {
        "id": "iygT2rFUYwI3"
      },
      "source": [
        "\n",
        "\n",
        "Sütunların farklı ölçekleri olan değerleri varsa, Öklid mesafesini hesaplamadan önce tüm sütunlardaki sayısal değerleri normalleştirmek veya standartlaştırmak yaygındır. Aksi takdirde, büyük değerlere sahip sütunlar mesafe ölçüsüne hakim olacaktır"
      ]
    },
    {
      "cell_type": "code",
      "metadata": {
        "id": "VfPBQNC4Na4g",
        "colab": {
          "base_uri": "https://localhost:8080/"
        },
        "outputId": "e392d980-df90-44cf-c310-14656ad3cb98"
      },
      "source": [
        "from math import sqrt\n",
        " \n",
        "# Öklid mesafesini hesaplama \n",
        "def euclidean_distance(a, b):\n",
        "\treturn sqrt(sum((e1-e2)**2 for e1, e2 in zip(a,b)))\n",
        " \n",
        "# Veriler\n",
        "satir1 = [10, 20, 15, 7]\n",
        "satir2 = [12, 24, 18, 15]\n",
        "\n",
        "# Mesafeyi hesaplama\n",
        "mesafe = euclidean_distance(satir1, satir2)\n",
        "print(mesafe)"
      ],
      "execution_count": 1,
      "outputs": [
        {
          "output_type": "stream",
          "text": [
            "9.643650760992955\n"
          ],
          "name": "stdout"
        }
      ]
    },
    {
      "cell_type": "markdown",
      "metadata": {
        "id": "NEEB_xjhf9iO"
      },
      "source": [
        "# **Cosine Similarity**\n",
        "\n"
      ]
    },
    {
      "cell_type": "markdown",
      "metadata": {
        "id": "UY4XGpoxpN8J"
      },
      "source": [
        "Kosinüs benzerliği, boyutlarına bakılmaksızın belgelerin ne kadar benzer olduğunu belirlemek için kullanılan bir ölçüdür. (Döküman analizinde kullanılır her kelimeyi vektör olarak tanımlanır vs..)\n",
        "\n",
        "Matematiksel olarak, çok boyutlu bir uzayda yansıtılan iki vektör arasındaki açının kosinüsünü ölçer. Bu bağlamda, bahsettiğimiz iki vektör, iki belgenin kelime sayısını içeren dizilerdir.\n",
        "\n",
        "Bir benzerlik ölçütü olarak, kosinüs benzerliği genel kelime sayısından nasıl farklıdır?\n",
        "\n",
        "Her boyutun belgedeki bir kelimeye karşılık geldiği çok boyutlu bir alana çizildiğinde, kosinüs benzerliği belgelerin büyüklüğünü değil yönünü (açısını) yakalar. Büyüklüğü istiyorsanız, bunun yerine Öklid mesafesini hesaplayın.\n",
        "\n",
        "Kosinüs benzerliği avantajlıdır, çünkü iki benzer belge, boyut nedeniyle Öklid mesafesine göre çok uzak olsa bile (örneğin, 'kriket' kelimesi bir belgede 50 kez ve bir başka belgede 10 kez geçse bile) daha küçük bir açıya sahip olabilirler. onların arasında. Açı ne kadar küçükse benzerlik o kadar yüksek olur."
      ]
    },
    {
      "cell_type": "markdown",
      "metadata": {
        "id": "N8anPEpBo2kR"
      },
      "source": [
        "![Screenshot-from-2020-02-09-16-19-35.png](data:image/png;base64,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)"
      ]
    },
    {
      "cell_type": "code",
      "metadata": {
        "colab": {
          "base_uri": "https://localhost:8080/"
        },
        "id": "-8l3fU7TIqt1",
        "outputId": "5ed42e5f-4c88-4756-ca00-0a3136ba704f"
      },
      "source": [
        "from math import sqrt\n",
        "\n",
        "def vektorboyu(x):\n",
        "  return round(sqrt(sum([a*a for a in x])),2)\n",
        "\n",
        "def cos_benzerligi(x,y):\n",
        "  ic_carpim = sum(a*b for a,b in zip(x,y))\n",
        "  norm = vektorboyu(x)*vektorboyu(y)\n",
        "  return round(ic_carpim/float(norm),2)\n",
        "\n",
        "print(cos_benzerligi([3, 5, 4, 5], [8, 7, 9, 6]))\n"
      ],
      "execution_count": null,
      "outputs": [
        {
          "output_type": "stream",
          "text": [
            "0.95\n"
          ],
          "name": "stdout"
        }
      ]
    },
    {
      "cell_type": "markdown",
      "metadata": {
        "id": "iA4anRHOf9Zr"
      },
      "source": [
        "# **Correlation**"
      ]
    },
    {
      "cell_type": "markdown",
      "metadata": {
        "id": "777OQrLZNV6F"
      },
      "source": [
        "İki veya daha fazla bağımsız değişken (öznitelik)arasındaki ilişkinin varlığı, bu ilişkinin yönü ve şiddeti korelasyon analizi ve sonucunda elde edilen korelasyon katsayısı ile belirlenir. Formülü aşağıdaki gibidir."
      ]
    },
    {
      "cell_type": "markdown",
      "metadata": {
        "id": "gRey72rcWUAp"
      },
      "source": [
        "![1_vRiQGhZlpCjvbTHP3fHpyQ.png](data:image/png;base64,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)"
      ]
    },
    {
      "cell_type": "markdown",
      "metadata": {
        "id": "m_6hST7MPVgt"
      },
      "source": [
        "- corr(x,y) = covariance(x,y) / s.deviation(x)+s.deviation(y)"
      ]
    },
    {
      "cell_type": "markdown",
      "metadata": {
        "id": "dVFPqv0-WXQB"
      },
      "source": [
        "Korelasyon katsayısı “r”, “-1” ve “1” arasında değişen değerler alır. Değer sonuçları ile ilgili yorumlar aşağıdaki gibidir.\n",
        "- r = -1 → negatif yönlü mükemmel bir ilişki\n",
        "- r = 1 → pozitif yönlü mükemmel bir ilişki\n",
        "- r = 0 → ilişki yok\n",
        "- r = 0.8 → pozitif yönlü iyi bir ilişki\n",
        "- r = -0.6 → negatif yönlü orta seviye bir ilişki\n",
        "\n"
      ]
    },
    {
      "cell_type": "code",
      "metadata": {
        "colab": {
          "base_uri": "https://localhost:8080/"
        },
        "id": "cYbQdeq_qn8P",
        "outputId": "8e6b593a-7609-441c-8f0a-708e48d85eff"
      },
      "source": [
        "import pandas as pd\n",
        "\n",
        "cov([2,3,7,4],[4,5,2,1])"
      ],
      "execution_count": null,
      "outputs": [
        {
          "output_type": "execute_result",
          "data": {
            "text/plain": [
              "-1.75"
            ]
          },
          "metadata": {
            "tags": []
          },
          "execution_count": 10
        }
      ]
    },
    {
      "cell_type": "code",
      "metadata": {
        "colab": {
          "base_uri": "https://localhost:8080/"
        },
        "id": "Wbc7DxubgHU9",
        "outputId": "9f625f96-fc55-4048-db18-006c14f21f82"
      },
      "source": [
        "\n",
        "def ortalama(x):\n",
        "  return round(sum([ a / len(x) for a in x]),2)\n",
        "  \n",
        "def standart_sapma(x):\n",
        "  return sqrt (sum([(a - ortalama(x))**2 for a in x]))\n",
        "\n",
        "def cov(x,y):\n",
        "  n= len(x)\n",
        "  return (sum((a - ortalama(x))*(b - ortalama(y)) for a,b in zip(x,y)))/n\n",
        "\n",
        "def corr(x,y):\n",
        "  return (cov(x,y)/(standart_sapma(x)*standart_sapma(y)))\n",
        "\n",
        "print(corr([1,2,3,4],[4,8,5,8]))"
      ],
      "execution_count": null,
      "outputs": [
        {
          "output_type": "stream",
          "text": [
            "0.14090046549415863\n"
          ],
          "name": "stdout"
        }
      ]
    },
    {
      "cell_type": "code",
      "metadata": {
        "id": "Y7mSHUM9oq8o"
      },
      "source": [
        "def correlation(x, y):\n",
        "    # X ve y serilerinin ortalamasını bulma\n",
        "    ortalama_x = sum(x)/float(len(x))\n",
        "    ortalama_y = sum(y)/float(len(y))\n",
        "\n",
        "    # Tek tek unsurlardan ortalamanın çıkarılması\n",
        "    toplam_x = [i-ortalama_x for i in x]\n",
        "    toplam_y = [i-ortalama_y for i in y]\n",
        "\n",
        "    # x ve y için kovaryans\n",
        "    pay = sum([toplam_x[i]*toplam_y[i] for i in range(len(sub_x))])\n",
        "\n",
        "    # X ve y'nin Standart Sapması\n",
        "    standart_sapma_x = sum([toplam_x[i]**2 for i in range(len(toplam_x))])\n",
        "    standart_sapma_y = sum([toplam_y[i]**2 for i in range(len(toplam_y))])\n",
        "\n",
        "    # karekökü bulmak için 0,5'in karesini alın\n",
        "    payda = (standart_sapma_x*standart_sapma_y)**0.5 \n",
        "    cor = pay/payda\n",
        "    return cor\n"
      ],
      "execution_count": 8,
      "outputs": []
    },
    {
      "cell_type": "markdown",
      "metadata": {
        "id": "hJwDQ0Ttf9Iv"
      },
      "source": [
        "# **Manhattan Distance**\n"
      ]
    },
    {
      "cell_type": "markdown",
      "metadata": {
        "id": "z_5KQ0YBK5JA"
      },
      "source": [
        "Manhattan mesafesi, iki nokta arasındaki mesafenin Kartezyen koordinatlarının mutlak farklarının toplamı olarak hesaplandığı bir ölçüdür . Basit bir deyişle, x koordinatları ve y koordinatları arasındaki farkın toplamıdır.\n",
        "\n",
        "A ve B olmak üzere iki noktamız olduğunu varsayalım. Aralarındaki Manhattan mesafesini bulmak istiyorsak, özetlemek gerekirse, mutlak x ekseni ve y ekseni varyasyonuna sahibiz. Bu, bu iki A ve B noktasının X ekseninde ve Y ekseninde nasıl değiştiğini bulmamız gerektiği anlamına gelir. Dik açılarla eksenler boyunca ölçülen iki nokta arasındaki Manhattan mesafesini söylemenin daha matematiksel bir yolu.\n",
        "\n",
        "P1 (x1, y1) ve p2 (x2, y2) olan bir düzlemde.\n",
        "\n",
        "Manhattan mesafesi = | x1 - x2 | + | y1 - y2 |\n",
        "\n",
        "Bu Manhattan mesafe metriği, Manhattan uzunluğu, doğrusal mesafe, L1 mesafesi veya L1 normu, şehir bloğu mesafesi, Minkowski'nin L1 mesafesi, taksi-taksi ölçüsü veya şehir bloğu mesafesi olarak da bilinir."
      ]
    },
    {
      "cell_type": "markdown",
      "metadata": {
        "id": "8vkPCwajqJPf"
      },
      "source": [
        "![manhattan.jpg](data:image/jpeg;base64,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)![0__9ljPf7RbVI5cVdG.png](data:image/png;base64,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)"
      ]
    },
    {
      "cell_type": "code",
      "metadata": {
        "id": "YK815wWGNY9F",
        "colab": {
          "base_uri": "https://localhost:8080/"
        },
        "outputId": "073efcfc-69cb-408b-cb95-6d1e8ee6a610"
      },
      "source": [
        "\n",
        "# Vektörler arası manhattan mesafesini ayarlama\n",
        "from math import sqrt\n",
        " \n",
        "# Manhattan mesafesi hesaplama\n",
        "def manhattan_distance(a, b):\n",
        "\treturn sum(abs(e1-e2) for e1, e2 in zip(a,b))\n",
        " \n",
        "# Veriler\n",
        "satir1 = [10, 20, 15, 10, 5]\n",
        "satir2 = [12, 24, 10, 41, 7]\n",
        "\n",
        "# Mesafe Hesaplama\n",
        "mesafe = manhattan_distance(satir1, satir2)\n",
        "print(mesafe)"
      ],
      "execution_count": 9,
      "outputs": [
        {
          "output_type": "stream",
          "text": [
            "44\n"
          ],
          "name": "stdout"
        }
      ]
    },
    {
      "cell_type": "markdown",
      "metadata": {
        "id": "5WKYu0kof86y"
      },
      "source": [
        "# **Minkowski**"
      ]
    },
    {
      "cell_type": "markdown",
      "metadata": {
        "id": "3N7v2JuvK_eM"
      },
      "source": [
        "Minkowski mesafesi, Öklid mesafesi ve Manhattan mesafesinin genelleştirilmiş bir metrik biçimidir .\n",
        "\n",
        "Denklemde, d ^ MKD , i ve j veri kaydı arasındaki Minkowski mesafesidir, k bir değişkenin indisi, n toplam değişken sayısı y ve λ Minkowski metriğinin sırasıdır. Herhangi bir λ> 0 için tanımlanmış olmasına rağmen, nadiren 1, 2 ve ∞ dışındaki değerler için kullanılır.\n",
        "\n",
        "Mesafeler, üç değişkenli iki nesne arasındaki farklı sıraların Minkowski metriğiyle ölçülmektedir (Görüntüde x, y, z eksenli bir koordinat sisteminde görüntülenir).\n",
        "\n",
        "Minkowski'nin eşanlamlıları\n",
        "Minkowski mesafesi veya Minkowski metriği için farklı adlar sırayla ortaya çıkar:\n",
        "\n",
        "- λ = 1 Manhattan mesafesidir. (City-Block) mesafesidir. \n",
        "- λ = 2 Öklid mesafesidir. \n",
        "- λ = ∞, Chebyshev mesafesidir. "
      ]
    },
    {
      "cell_type": "markdown",
      "metadata": {
        "id": "F6IMX9Stpql6"
      },
      "source": [
        "![1_nxGbicBE1MSV4LbBFueJvg.png](data:image/png;base64,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)"
      ]
    },
    {
      "cell_type": "code",
      "metadata": {
        "id": "eRO0cB0SNYOD",
        "colab": {
          "base_uri": "https://localhost:8080/"
        },
        "outputId": "24e90f65-e36a-442c-bc68-88e8a48b6110"
      },
      "source": [
        "\n",
        "# Vektörler arası minkowski mesafesi hesaplama\n",
        "from math import sqrt\n",
        " \n",
        "# Minkowwski mesafesi hesaplama\n",
        "def minkowski_distance(a, b, p):\n",
        "\treturn sum(abs(e1-e2)**p for e1, e2 in zip(a,b))**(1/p)\n",
        " \n",
        "# Veriler\n",
        "kume1 = [9, 12, 15]\n",
        "kume2 = [12, 16, 20]\n",
        "\n",
        "# Mesafe hesaplama (p=1)\n",
        "mesafe = minkowski_distance(kume1, kume2, 1)\n",
        "print(mesafe)\n",
        "# mesafe hesaplama (p=2)\n",
        "mesafe = minkowski_distance(kume1, kume2, 4)\n",
        "print(mesafe)"
      ],
      "execution_count": 10,
      "outputs": [
        {
          "output_type": "stream",
          "text": [
            "12.0\n",
            "5.569212227823757\n"
          ],
          "name": "stdout"
        }
      ]
    },
    {
      "cell_type": "markdown",
      "metadata": {
        "id": "Po3q3zAVf8t4"
      },
      "source": [
        "# **Hamming Distance**"
      ]
    },
    {
      "cell_type": "markdown",
      "metadata": {
        "id": "aU2tMmuvXW6q"
      },
      "source": [
        "Hamming mesafesi, ikili veri dizisini karşılaştırmak için bir ölçüdür. Eşit uzunluktaki iki ikili dizgiyi karşılaştırırken, Hamming mesafesi, iki bitin farklı olduğu bit konumlarının sayısıdır"
      ]
    },
    {
      "cell_type": "markdown",
      "metadata": {
        "id": "ELZ1F4h5NALK"
      },
      "source": [
        "Hamming mesafesi , kısaca ikili dizeler veya bit dizileri olarak da adlandırılan iki ikili vektör arasındaki mesafeyi hesaplar.\n",
        "\n",
        "Kategorik veri sütunlarını tek seferde kodladığınızda büyük olasılıkla bit dizileriyle karşılaşacaksınız .\n",
        "\n",
        "Örneğin, bir sütunda \" kırmızı\" , \" yeşil \" ve \" mavi \" kategorileri varsa, her bir örneği her sütun için bir bit olan bir bit dizesi olarak bir etkin kodlayabilirsiniz.\n",
        "\n",
        "- kırmızı = [1, 0, 0]\n",
        "- yeşil = [0, 1, 0]\n",
        "- mavi = [0, 0, 1]\n",
        "\n",
        "Kırmızı ve yeşil arasındaki mesafe, iki bit dizisi arasındaki toplam veya ortalama bit farkı sayısı olarak hesaplanabilir.\n",
        "\n",
        "Tek çalışırken kodlanmış bir dizi için, dizeler arasındaki bit farklarının toplamını özetlemek daha mantıklı olabilir, bu her zaman 0 veya 1 olacaktır.\n",
        "\n",
        "- HammingDistance = i - N  için toplam (v1 [i] - v2 [i])\n",
        "\n",
        "Birçok 1 biti olabilen bit dizileri için, 0 (aynı) ve 1 (tümü farklı) arasında bir hamming mesafe puanı vermek için ortalama bit farkı sayısını hesaplamak daha yaygındır.\n",
        "\n",
        "- HammingDistance = (i'den N'ye kadar (v1 [i] - v2 [i])) / N\n",
        "\n",
        "Bunu, aşağıda listelenen iki bit dizisi arasındaki Hamming mesafesini hesaplamanın bir örneğiyle gösterebiliriz."
      ]
    },
    {
      "cell_type": "code",
      "metadata": {
        "id": "kcwKPIDJNXrK",
        "colab": {
          "base_uri": "https://localhost:8080/"
        },
        "outputId": "0deb7e37-d74f-4040-d970-d018c98fb6df"
      },
      "source": [
        "\n",
        "# hamming mesafesini hesaplama\n",
        "def hamming_distance(a, b):\n",
        "\treturn sum(abs(e1 - e2) for e1, e2 in zip(a, b)) / len(a)\n",
        "\n",
        "# Veriler\n",
        "satir1 = [0, 0, 0, 0, 0]\n",
        "satir2 = [0, 0, 0, 0, 1]\n",
        "\n",
        "# Mesafe hesabı\n",
        "mesafe = hamming_distance(satir1, satir2)\n",
        "print(mesafe)\n"
      ],
      "execution_count": 11,
      "outputs": [
        {
          "output_type": "stream",
          "text": [
            "0.2\n"
          ],
          "name": "stdout"
        }
      ]
    },
    {
      "cell_type": "code",
      "metadata": {
        "id": "Ed08mIOXe05Q"
      },
      "source": [
        "def hamming_distance(string1, string2): \n",
        "    # Sıfır mesafeyle başlayın ve sayın\n",
        "    distance = 0\n",
        "\n",
        "    # Dizenin indisleri üzerinde döngü yapın\n",
        "    L = len(string1)\n",
        "    for i in range(L):\n",
        "        # Bu iki karakter eşit değilse mesafeye 1 ekleyin\n",
        "        if string1[i] != string2[i]:\n",
        "            distance += 1\n",
        "    # Son fark sayısını döndür\n",
        "    return distance"
      ],
      "execution_count": 12,
      "outputs": []
    },
    {
      "cell_type": "code",
      "metadata": {
        "id": "YOlE_xv2fUqz",
        "colab": {
          "base_uri": "https://localhost:8080/"
        },
        "outputId": "bb3b2b87-ac94-455d-a9d7-e3ba6f931d0e"
      },
      "source": [
        "ornek = hamming_distance(\"asdklf\", \"asdfgh\")\n",
        "print(ornek)"
      ],
      "execution_count": 13,
      "outputs": [
        {
          "output_type": "stream",
          "text": [
            "3\n"
          ],
          "name": "stdout"
        }
      ]
    },
    {
      "cell_type": "code",
      "metadata": {
        "id": "tXzedviUfYcZ",
        "colab": {
          "base_uri": "https://localhost:8080/"
        },
        "outputId": "75f4fc28-63a9-4194-aca3-11f390983309"
      },
      "source": [
        "hamming_distance(\"ASDOISADIOJDAKLJDALSHDASKDHKJSADHKJSADGKHASHDKJSADH\",\n",
        "                 \"SADHAKSKJDHKSAJDHAKJSDHKASJDHASKJDHASKJDHKJASDHSJDH\")"
      ],
      "execution_count": 14,
      "outputs": [
        {
          "output_type": "execute_result",
          "data": {
            "text/plain": [
              "44"
            ]
          },
          "metadata": {
            "tags": []
          },
          "execution_count": 14
        }
      ]
    }
  ]
}